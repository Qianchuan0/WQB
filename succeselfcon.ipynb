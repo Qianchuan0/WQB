{
 "cells": [
  {
   "cell_type": "code",
   "execution_count": 1,
   "id": "130a6b13",
   "metadata": {},
   "outputs": [
    {
     "name": "stdout",
     "output_type": "stream",
     "text": [
      "b'{\"user\":{\"id\":\"ZY20347\"},\"token\":{\"expiry\":14400.0},\"permissions\":[\"TUTORIAL\",\"WORKDAY\"]}'\n",
      "开始检查所有未提交alpha的相关系数...\n",
      "开始获取未提交的alpha列表...\n",
      "正在获取未提交alpha列表，offset=0...\n",
      "已获取 68 个未提交alpha\n",
      "正在获取未提交alpha列表，offset=100...\n",
      "获取未提交alpha完成，共 68 个\n",
      "获取到 68 个未提交alpha\n",
      "开始获取已提交的alpha列表...\n",
      "从本地文件夹读取已下载的alpha...\n",
      "从本地读取到 64 个已下载alpha\n",
      "从API获取所有已提交alpha...\n",
      "正在获取已提交alpha列表，offset=0...\n",
      "下载alpha vRKgblKz 的PNL数据...\n",
      "下载alpha vRKgblKz 的PNL数据失败: Expecting value: line 1 column 1 (char 0)\n",
      "下载alpha 6XmJM9np 的PNL数据...\n",
      "下载alpha 6XmJM9np 的PNL数据失败: Expecting value: line 1 column 1 (char 0)\n",
      "下载alpha blGA39rM 的PNL数据...\n",
      "下载alpha blGA39rM 的PNL数据失败: Expecting value: line 1 column 1 (char 0)\n",
      "下载alpha 9qZ7mpao 的PNL数据...\n",
      "下载alpha 9qZ7mpao 的PNL数据失败: Expecting value: line 1 column 1 (char 0)\n",
      "下载alpha 1YqeoMn6 的PNL数据...\n",
      "下载alpha 1YqeoMn6 的PNL数据失败: Expecting value: line 1 column 1 (char 0)\n",
      "下载alpha E5OnA6dP 的PNL数据...\n",
      "下载alpha E5OnA6dP 的PNL数据失败: Expecting value: line 1 column 1 (char 0)\n",
      "下载alpha kqxlPNlK 的PNL数据...\n",
      "下载alpha kqxlPNlK 的PNL数据失败: Expecting value: line 1 column 1 (char 0)\n",
      "下载alpha ZYR3MgP8 的PNL数据...\n",
      "下载alpha ZYR3MgP8 的PNL数据失败: Expecting value: line 1 column 1 (char 0)\n",
      "下载alpha 1YqelKn6 的PNL数据...\n",
      "下载alpha 1YqelKn6 的PNL数据失败: Expecting value: line 1 column 1 (char 0)\n",
      "下载alpha N1xzaWkE 的PNL数据...\n",
      "下载alpha N1xzaWkE 的PNL数据失败: Expecting value: line 1 column 1 (char 0)\n",
      "下载alpha XgmMkPd1 的PNL数据...\n",
      "下载alpha XgmMkPd1 的PNL数据失败: Expecting value: line 1 column 1 (char 0)\n",
      "下载alpha Wj1GYkjO 的PNL数据...\n",
      "下载alpha Wj1GYkjO 的PNL数据失败: Expecting value: line 1 column 1 (char 0)\n",
      "下载alpha om8K5xZv 的PNL数据...\n",
      "下载alpha om8K5xZv 的PNL数据失败: Expecting value: line 1 column 1 (char 0)\n",
      "下载alpha zqv62XgX 的PNL数据...\n",
      "下载alpha zqv62XgX 的PNL数据失败: Expecting value: line 1 column 1 (char 0)\n",
      "下载alpha d5k0vqwK 的PNL数据...\n",
      "下载alpha d5k0vqwK 的PNL数据失败: Expecting value: line 1 column 1 (char 0)\n",
      "下载alpha ZYPn2l28 的PNL数据...\n",
      "下载alpha ZYPn2l28 的PNL数据失败: Expecting value: line 1 column 1 (char 0)\n",
      "下载alpha Wj1YbvKd 的PNL数据...\n",
      "下载alpha Wj1YbvKd 的PNL数据失败: Expecting value: line 1 column 1 (char 0)\n",
      "下载alpha j2z6Avpe 的PNL数据...\n",
      "下载alpha j2z6Avpe 的PNL数据失败: Expecting value: line 1 column 1 (char 0)\n",
      "下载alpha A1RWqolW 的PNL数据...\n",
      "下载alpha A1RWqolW 的PNL数据失败: Expecting value: line 1 column 1 (char 0)\n",
      "下载alpha 9qZ3Q7wK 的PNL数据...\n",
      "下载alpha 9qZ3Q7wK 的PNL数据失败: Expecting value: line 1 column 1 (char 0)\n",
      "下载alpha xAO5n9On 的PNL数据...\n",
      "下载alpha xAO5n9On 的PNL数据失败: Expecting value: line 1 column 1 (char 0)\n",
      "下载alpha MPM6520k 的PNL数据...\n",
      "下载alpha MPM6520k 的PNL数据失败: Expecting value: line 1 column 1 (char 0)\n",
      "下载alpha Gr1xmjRJ 的PNL数据...\n",
      "下载alpha Gr1xmjRJ 的PNL数据失败: Expecting value: line 1 column 1 (char 0)\n",
      "下载alpha blG0wN7M 的PNL数据...\n",
      "下载alpha blG0wN7M 的PNL数据失败: Expecting value: line 1 column 1 (char 0)\n",
      "下载alpha LLVoaOrv 的PNL数据...\n",
      "下载alpha LLVoaOrv 的PNL数据失败: Expecting value: line 1 column 1 (char 0)\n",
      "下载alpha wpKEqkr1 的PNL数据...\n",
      "下载alpha wpKEqkr1 的PNL数据失败: Expecting value: line 1 column 1 (char 0)\n",
      "下载alpha RRjmnKXz 的PNL数据...\n",
      "下载alpha RRjmnKXz 的PNL数据失败: Expecting value: line 1 column 1 (char 0)\n",
      "下载alpha VkvgrNYA 的PNL数据...\n",
      "下载alpha VkvgrNYA 的PNL数据失败: Expecting value: line 1 column 1 (char 0)\n",
      "下载alpha 1YkdG2e6 的PNL数据...\n",
      "下载alpha 1YkdG2e6 的PNL数据失败: Expecting value: line 1 column 1 (char 0)\n",
      "下载alpha kqxdvPXz 的PNL数据...\n",
      "下载alpha kqxdvPXz 的PNL数据失败: Expecting value: line 1 column 1 (char 0)\n",
      "下载alpha 787L61GO 的PNL数据...\n",
      "下载alpha 787L61GO 的PNL数据失败: Expecting value: line 1 column 1 (char 0)\n",
      "下载alpha om150KAE 的PNL数据...\n",
      "下载alpha om150KAE 的PNL数据失败: Expecting value: line 1 column 1 (char 0)\n",
      "已获取 96 个已提交alpha\n",
      "正在获取已提交alpha列表，offset=100...\n",
      "获取已提交alpha完成，共 96 个\n",
      "获取到 96 个已提交alpha\n",
      "b'{\"user\":{\"id\":\"ZY20347\"},\"token\":{\"expiry\":14400.0},\"permissions\":[\"TUTORIAL\",\"WORKDAY\"]}'\n",
      "\n",
      "预先加载已提交alpha的PNL数据...\n",
      "加载进度: 96/96 (100.0%)\n",
      "已提交alpha的PNL数据加载完成！\n",
      "处理进度: 1/68 (1.5%) - 当前处理: pwmXeVv3"
     ]
    },
    {
     "name": "stderr",
     "output_type": "stream",
     "text": [
      "2025-10-28 15:25:43,609 - INFO - 需要等待 1.0 秒后重试\n",
      "2025-10-28 15:25:44,917 - INFO - 成功获取 pwmXeVv3 的PNL数据\n"
     ]
    },
    {
     "name": "stdout",
     "output_type": "stream",
     "text": [
      "alpha pwmXeVv3 没有 score 数据\n",
      "处理进度: 2/68 (2.9%) - 当前处理: ZY65NOZd"
     ]
    },
    {
     "name": "stderr",
     "output_type": "stream",
     "text": [
      "2025-10-28 15:25:46,373 - INFO - 需要等待 1.0 秒后重试\n",
      "2025-10-28 15:25:47,670 - INFO - 成功获取 ZY65NOZd 的PNL数据\n"
     ]
    },
    {
     "name": "stdout",
     "output_type": "stream",
     "text": [
      "alpha ZY65NOZd 没有 score 数据\n",
      "处理进度: 3/68 (4.4%) - 当前处理: vR8Mkvwz"
     ]
    },
    {
     "name": "stderr",
     "output_type": "stream",
     "text": [
      "2025-10-28 15:25:49,162 - INFO - 需要等待 1.0 秒后重试\n",
      "2025-10-28 15:25:50,455 - INFO - 成功获取 vR8Mkvwz 的PNL数据\n"
     ]
    },
    {
     "name": "stdout",
     "output_type": "stream",
     "text": [
      "alpha vR8Mkvwz 没有 score 数据\n",
      "处理进度: 4/68 (5.9%) - 当前处理: WjMQmZ0P"
     ]
    },
    {
     "name": "stderr",
     "output_type": "stream",
     "text": [
      "2025-10-28 15:25:51,631 - INFO - 需要等待 1.0 秒后重试\n",
      "2025-10-28 15:25:53,145 - INFO - 成功获取 WjMQmZ0P 的PNL数据\n"
     ]
    },
    {
     "name": "stdout",
     "output_type": "stream",
     "text": [
      "alpha WjMQmZ0P 没有 score 数据\n",
      "处理进度: 5/68 (7.4%) - 当前处理: E51723Mm"
     ]
    },
    {
     "name": "stderr",
     "output_type": "stream",
     "text": [
      "2025-10-28 15:25:54,349 - INFO - 需要等待 1.0 秒后重试\n",
      "2025-10-28 15:25:55,627 - INFO - 成功获取 E51723Mm 的PNL数据\n"
     ]
    },
    {
     "name": "stdout",
     "output_type": "stream",
     "text": [
      "alpha E51723Mm 没有 score 数据\n",
      "处理进度: 6/68 (8.8%) - 当前处理: ak6YG3GR"
     ]
    },
    {
     "name": "stderr",
     "output_type": "stream",
     "text": [
      "2025-10-28 15:25:56,802 - INFO - 需要等待 1.0 秒后重试\n",
      "2025-10-28 15:25:58,092 - INFO - 成功获取 ak6YG3GR 的PNL数据\n"
     ]
    },
    {
     "name": "stdout",
     "output_type": "stream",
     "text": [
      "alpha ak6YG3GR 没有 score 数据\n",
      "处理进度: 7/68 (10.3%) - 当前处理: QPMJgWo5"
     ]
    },
    {
     "name": "stderr",
     "output_type": "stream",
     "text": [
      "2025-10-28 15:25:59,342 - INFO - 需要等待 1.0 秒后重试\n",
      "2025-10-28 15:26:00,607 - INFO - 需要等待 1.0 秒后重试\n",
      "2025-10-28 15:26:01,886 - INFO - 成功获取 QPMJgWo5 的PNL数据\n"
     ]
    },
    {
     "name": "stdout",
     "output_type": "stream",
     "text": [
      "alpha QPMJgWo5 没有 score 数据\n",
      "处理进度: 8/68 (11.8%) - 当前处理: O0OYVZgb"
     ]
    },
    {
     "name": "stderr",
     "output_type": "stream",
     "text": [
      "2025-10-28 15:26:02,828 - INFO - 需要等待 1.0 秒后重试\n",
      "2025-10-28 15:26:04,151 - INFO - 成功获取 O0OYVZgb 的PNL数据\n"
     ]
    },
    {
     "name": "stdout",
     "output_type": "stream",
     "text": [
      "alpha O0OYVZgb 没有 score 数据\n",
      "处理进度: 9/68 (13.2%) - 当前处理: wpqxVR1x"
     ]
    },
    {
     "name": "stderr",
     "output_type": "stream",
     "text": [
      "2025-10-28 15:26:05,122 - INFO - 需要等待 1.0 秒后重试\n",
      "2025-10-28 15:26:06,404 - INFO - 成功获取 wpqxVR1x 的PNL数据\n"
     ]
    },
    {
     "name": "stdout",
     "output_type": "stream",
     "text": [
      "alpha wpqxVR1x 没有 score 数据\n",
      "处理进度: 10/68 (14.7%) - 当前处理: LLWaJva6"
     ]
    },
    {
     "name": "stderr",
     "output_type": "stream",
     "text": [
      "2025-10-28 15:26:07,315 - INFO - 需要等待 1.0 秒后重试\n",
      "2025-10-28 15:26:08,607 - INFO - 成功获取 LLWaJva6 的PNL数据\n"
     ]
    },
    {
     "name": "stdout",
     "output_type": "stream",
     "text": [
      "alpha LLWaJva6 没有 score 数据\n",
      "处理进度: 11/68 (16.2%) - 当前处理: xAq6EM0J"
     ]
    },
    {
     "name": "stderr",
     "output_type": "stream",
     "text": [
      "2025-10-28 15:26:09,769 - INFO - 需要等待 1.0 秒后重试\n",
      "2025-10-28 15:26:11,057 - INFO - 成功获取 xAq6EM0J 的PNL数据\n"
     ]
    },
    {
     "name": "stdout",
     "output_type": "stream",
     "text": [
      "alpha xAq6EM0J 没有 score 数据\n",
      "处理进度: 12/68 (17.6%) - 当前处理: zqZ6azQ1"
     ]
    },
    {
     "name": "stderr",
     "output_type": "stream",
     "text": [
      "2025-10-28 15:26:12,519 - INFO - 需要等待 1.0 秒后重试\n",
      "2025-10-28 15:26:13,808 - INFO - 成功获取 zqZ6azQ1 的PNL数据\n"
     ]
    },
    {
     "name": "stdout",
     "output_type": "stream",
     "text": [
      "alpha zqZ6azQ1 没有 score 数据\n",
      "处理进度: 13/68 (19.1%) - 当前处理: N10w8JAq"
     ]
    },
    {
     "name": "stderr",
     "output_type": "stream",
     "text": [
      "2025-10-28 15:26:14,949 - INFO - 需要等待 1.0 秒后重试\n",
      "2025-10-28 15:26:16,251 - INFO - 成功获取 N10w8JAq 的PNL数据\n"
     ]
    },
    {
     "name": "stdout",
     "output_type": "stream",
     "text": [
      "alpha N10w8JAq 没有 score 数据\n",
      "处理进度: 14/68 (20.6%) - 当前处理: KP30Q29x"
     ]
    },
    {
     "name": "stderr",
     "output_type": "stream",
     "text": [
      "2025-10-28 15:26:17,391 - INFO - 需要等待 1.0 秒后重试\n",
      "2025-10-28 15:26:18,652 - INFO - 需要等待 1.0 秒后重试\n",
      "2025-10-28 15:26:19,946 - INFO - 成功获取 KP30Q29x 的PNL数据\n"
     ]
    },
    {
     "name": "stdout",
     "output_type": "stream",
     "text": [
      "alpha KP30Q29x 没有 score 数据\n",
      "处理进度: 15/68 (22.1%) - 当前处理: vR8MV09z"
     ]
    },
    {
     "name": "stderr",
     "output_type": "stream",
     "text": [
      "2025-10-28 15:26:21,136 - INFO - 需要等待 1.0 秒后重试\n",
      "2025-10-28 15:26:22,445 - INFO - 成功获取 vR8MV09z 的PNL数据\n"
     ]
    },
    {
     "name": "stdout",
     "output_type": "stream",
     "text": [
      "alpha vR8MV09z 没有 score 数据\n",
      "处理进度: 16/68 (23.5%) - 当前处理: ak6Z3316"
     ]
    },
    {
     "name": "stderr",
     "output_type": "stream",
     "text": [
      "2025-10-28 15:26:23,632 - INFO - 需要等待 1.0 秒后重试\n",
      "2025-10-28 15:26:24,966 - INFO - 成功获取 ak6Z3316 的PNL数据\n"
     ]
    },
    {
     "name": "stdout",
     "output_type": "stream",
     "text": [
      "alpha ak6Z3316 没有 score 数据\n",
      "处理进度: 17/68 (25.0%) - 当前处理: XgGQbnxX"
     ]
    },
    {
     "name": "stderr",
     "output_type": "stream",
     "text": [
      "2025-10-28 15:26:26,337 - INFO - 需要等待 1.0 秒后重试\n",
      "2025-10-28 15:26:27,619 - INFO - 成功获取 XgGQbnxX 的PNL数据\n"
     ]
    },
    {
     "name": "stdout",
     "output_type": "stream",
     "text": [
      "alpha XgGQbnxX 没有 score 数据\n",
      "处理进度: 18/68 (26.5%) - 当前处理: A19ZnKEQ"
     ]
    },
    {
     "name": "stderr",
     "output_type": "stream",
     "text": [
      "2025-10-28 15:26:28,781 - INFO - 需要等待 1.0 秒后重试\n",
      "2025-10-28 15:26:30,068 - INFO - 成功获取 A19ZnKEQ 的PNL数据\n"
     ]
    },
    {
     "name": "stdout",
     "output_type": "stream",
     "text": [
      "alpha A19ZnKEQ 没有 score 数据\n",
      "处理进度: 19/68 (27.9%) - 当前处理: MPOWrj3r"
     ]
    },
    {
     "name": "stderr",
     "output_type": "stream",
     "text": [
      "2025-10-28 15:26:31,583 - INFO - 需要等待 1.0 秒后重试\n",
      "2025-10-28 15:26:32,891 - INFO - 成功获取 MPOWrj3r 的PNL数据\n"
     ]
    },
    {
     "name": "stdout",
     "output_type": "stream",
     "text": [
      "alpha MPOWrj3r 没有 score 数据\n",
      "处理进度: 20/68 (29.4%) - 当前处理: qM813wLj"
     ]
    },
    {
     "name": "stderr",
     "output_type": "stream",
     "text": [
      "2025-10-28 15:26:33,827 - INFO - 需要等待 1.0 秒后重试\n",
      "2025-10-28 15:26:35,114 - INFO - 成功获取 qM813wLj 的PNL数据\n"
     ]
    },
    {
     "name": "stdout",
     "output_type": "stream",
     "text": [
      "alpha qM813wLj 没有 score 数据\n",
      "处理进度: 21/68 (30.9%) - 当前处理: 3qwb5Aaz"
     ]
    },
    {
     "name": "stderr",
     "output_type": "stream",
     "text": [
      "2025-10-28 15:26:36,053 - INFO - 需要等待 1.0 秒后重试\n",
      "2025-10-28 15:26:37,349 - INFO - 成功获取 3qwb5Aaz 的PNL数据\n"
     ]
    },
    {
     "name": "stdout",
     "output_type": "stream",
     "text": [
      "alpha 3qwb5Aaz 没有 score 数据\n",
      "处理进度: 22/68 (32.4%) - 当前处理: mLp3G725"
     ]
    },
    {
     "name": "stderr",
     "output_type": "stream",
     "text": [
      "2025-10-28 15:26:38,415 - INFO - 需要等待 1.0 秒后重试\n",
      "2025-10-28 15:26:39,725 - INFO - 成功获取 mLp3G725 的PNL数据\n"
     ]
    },
    {
     "name": "stdout",
     "output_type": "stream",
     "text": [
      "alpha mLp3G725 没有 score 数据\n",
      "处理进度: 23/68 (33.8%) - 当前处理: A19WE3Mg"
     ]
    },
    {
     "name": "stderr",
     "output_type": "stream",
     "text": [
      "2025-10-28 15:26:40,695 - INFO - 需要等待 1.0 秒后重试\n",
      "2025-10-28 15:26:41,976 - INFO - 成功获取 A19WE3Mg 的PNL数据\n"
     ]
    },
    {
     "name": "stdout",
     "output_type": "stream",
     "text": [
      "alpha A19WE3Mg 没有 score 数据\n",
      "处理进度: 24/68 (35.3%) - 当前处理: A19Wm32l"
     ]
    },
    {
     "name": "stderr",
     "output_type": "stream",
     "text": [
      "2025-10-28 15:26:43,234 - INFO - 需要等待 1.0 秒后重试\n",
      "2025-10-28 15:26:44,546 - INFO - 成功获取 A19Wm32l 的PNL数据\n"
     ]
    },
    {
     "name": "stdout",
     "output_type": "stream",
     "text": [
      "alpha A19Wm32l 没有 score 数据\n",
      "处理进度: 25/68 (36.8%) - 当前处理: 1Ye9P6Vk"
     ]
    },
    {
     "name": "stderr",
     "output_type": "stream",
     "text": [
      "2025-10-28 15:26:45,759 - INFO - 需要等待 1.0 秒后重试\n",
      "2025-10-28 15:26:47,045 - INFO - 成功获取 1Ye9P6Vk 的PNL数据\n"
     ]
    },
    {
     "name": "stdout",
     "output_type": "stream",
     "text": [
      "alpha 1Ye9P6Vk 没有 score 数据\n",
      "处理进度: 26/68 (38.2%) - 当前处理: zqZ6RXPR"
     ]
    },
    {
     "name": "stderr",
     "output_type": "stream",
     "text": [
      "2025-10-28 15:26:48,196 - INFO - 需要等待 1.0 秒后重试\n",
      "2025-10-28 15:26:49,484 - INFO - 成功获取 zqZ6RXPR 的PNL数据\n"
     ]
    },
    {
     "name": "stdout",
     "output_type": "stream",
     "text": [
      "alpha zqZ6RXPR 没有 score 数据\n",
      "处理进度: 27/68 (39.7%) - 当前处理: 1Yeb5G0J"
     ]
    },
    {
     "name": "stderr",
     "output_type": "stream",
     "text": [
      "2025-10-28 15:26:50,389 - INFO - 需要等待 1.0 秒后重试\n",
      "2025-10-28 15:26:51,707 - INFO - 成功获取 1Yeb5G0J 的PNL数据\n"
     ]
    },
    {
     "name": "stdout",
     "output_type": "stream",
     "text": [
      "alpha 1Yeb5G0J 没有 score 数据\n",
      "处理进度: 28/68 (41.2%) - 当前处理: 2rM0Y22x"
     ]
    },
    {
     "name": "stderr",
     "output_type": "stream",
     "text": [
      "2025-10-28 15:26:52,925 - INFO - 需要等待 1.0 秒后重试\n",
      "2025-10-28 15:26:54,199 - INFO - 成功获取 2rM0Y22x 的PNL数据\n"
     ]
    },
    {
     "name": "stdout",
     "output_type": "stream",
     "text": [
      "alpha 2rM0Y22x 没有 score 数据\n",
      "处理进度: 29/68 (42.6%) - 当前处理: j2vE723E"
     ]
    },
    {
     "name": "stderr",
     "output_type": "stream",
     "text": [
      "2025-10-28 15:26:55,392 - INFO - 需要等待 1.0 秒后重试\n",
      "2025-10-28 15:26:56,917 - INFO - 成功获取 j2vE723E 的PNL数据\n"
     ]
    },
    {
     "name": "stdout",
     "output_type": "stream",
     "text": [
      "alpha j2vE723E 没有 score 数据\n",
      "处理进度: 30/68 (44.1%) - 当前处理: xAq6EM7q"
     ]
    },
    {
     "name": "stderr",
     "output_type": "stream",
     "text": [
      "2025-10-28 15:26:58,130 - INFO - 需要等待 1.0 秒后重试\n",
      "2025-10-28 15:26:59,642 - INFO - 成功获取 xAq6EM7q 的PNL数据\n"
     ]
    },
    {
     "name": "stdout",
     "output_type": "stream",
     "text": [
      "alpha xAq6EM7q 没有 score 数据\n",
      "处理进度: 31/68 (45.6%) - 当前处理: E51WEXl1"
     ]
    },
    {
     "name": "stderr",
     "output_type": "stream",
     "text": [
      "2025-10-28 15:27:00,563 - INFO - 需要等待 1.0 秒后重试\n",
      "2025-10-28 15:27:01,848 - INFO - 成功获取 E51WEXl1 的PNL数据\n"
     ]
    },
    {
     "name": "stdout",
     "output_type": "stream",
     "text": [
      "alpha E51WEXl1 没有 score 数据\n",
      "处理进度: 32/68 (47.1%) - 当前处理: d5pVqLW2"
     ]
    },
    {
     "name": "stderr",
     "output_type": "stream",
     "text": [
      "2025-10-28 15:27:03,062 - INFO - 需要等待 1.0 秒后重试\n",
      "2025-10-28 15:27:04,378 - INFO - 成功获取 d5pVqLW2 的PNL数据\n"
     ]
    },
    {
     "name": "stdout",
     "output_type": "stream",
     "text": [
      "alpha d5pVqLW2 没有 score 数据\n",
      "处理进度: 33/68 (48.5%) - 当前处理: gJ6Oxq6K"
     ]
    },
    {
     "name": "stderr",
     "output_type": "stream",
     "text": [
      "2025-10-28 15:27:05,572 - INFO - 需要等待 1.0 秒后重试\n",
      "2025-10-28 15:27:06,870 - INFO - 成功获取 gJ6Oxq6K 的PNL数据\n"
     ]
    },
    {
     "name": "stdout",
     "output_type": "stream",
     "text": [
      "alpha gJ6Oxq6K 没有 score 数据\n",
      "处理进度: 34/68 (50.0%) - 当前处理: QPMkeeZg"
     ]
    },
    {
     "name": "stderr",
     "output_type": "stream",
     "text": [
      "2025-10-28 15:27:08,062 - INFO - 需要等待 1.0 秒后重试\n",
      "2025-10-28 15:27:09,348 - INFO - 成功获取 QPMkeeZg 的PNL数据\n"
     ]
    },
    {
     "name": "stdout",
     "output_type": "stream",
     "text": [
      "alpha QPMkeeZg 没有 score 数据\n",
      "处理进度: 35/68 (51.5%) - 当前处理: kqdr5Adl"
     ]
    },
    {
     "name": "stderr",
     "output_type": "stream",
     "text": [
      "2025-10-28 15:27:10,328 - INFO - 需要等待 1.0 秒后重试\n",
      "2025-10-28 15:27:11,621 - INFO - 成功获取 kqdr5Adl 的PNL数据\n"
     ]
    },
    {
     "name": "stdout",
     "output_type": "stream",
     "text": [
      "alpha kqdr5Adl 没有 score 数据\n",
      "处理进度: 36/68 (52.9%) - 当前处理: XgGrd7Q8"
     ]
    },
    {
     "name": "stderr",
     "output_type": "stream",
     "text": [
      "2025-10-28 15:27:12,519 - INFO - 需要等待 1.0 秒后重试\n",
      "2025-10-28 15:27:13,816 - INFO - 成功获取 XgGrd7Q8 的PNL数据\n"
     ]
    },
    {
     "name": "stdout",
     "output_type": "stream",
     "text": [
      "alpha XgGrd7Q8 没有 score 数据\n",
      "处理进度: 37/68 (54.4%) - 当前处理: 1Yeb7eRW"
     ]
    },
    {
     "name": "stderr",
     "output_type": "stream",
     "text": [
      "2025-10-28 15:27:14,731 - INFO - 需要等待 1.0 秒后重试\n",
      "2025-10-28 15:27:16,047 - INFO - 成功获取 1Yeb7eRW 的PNL数据\n"
     ]
    },
    {
     "name": "stdout",
     "output_type": "stream",
     "text": [
      "alpha 1Yeb7eRW 没有 score 数据\n",
      "处理进度: 38/68 (55.9%) - 当前处理: vR8MmeVz"
     ]
    },
    {
     "name": "stderr",
     "output_type": "stream",
     "text": [
      "2025-10-28 15:27:17,852 - INFO - 需要等待 1.0 秒后重试\n",
      "2025-10-28 15:27:19,154 - INFO - 成功获取 vR8MmeVz 的PNL数据\n"
     ]
    },
    {
     "name": "stdout",
     "output_type": "stream",
     "text": [
      "alpha vR8MmeVz 没有 score 数据\n",
      "处理进度: 39/68 (57.4%) - 当前处理: gJ6OxG10"
     ]
    },
    {
     "name": "stderr",
     "output_type": "stream",
     "text": [
      "2025-10-28 15:27:20,115 - INFO - 需要等待 1.0 秒后重试\n",
      "2025-10-28 15:27:21,389 - INFO - 成功获取 gJ6OxG10 的PNL数据\n"
     ]
    },
    {
     "name": "stdout",
     "output_type": "stream",
     "text": [
      "alpha gJ6OxG10 没有 score 数据\n",
      "处理进度: 40/68 (58.8%) - 当前处理: WjMQ9ovG"
     ]
    },
    {
     "name": "stderr",
     "output_type": "stream",
     "text": [
      "2025-10-28 15:27:22,318 - INFO - 需要等待 1.0 秒后重试\n",
      "2025-10-28 15:27:23,609 - INFO - 成功获取 WjMQ9ovG 的PNL数据\n"
     ]
    },
    {
     "name": "stdout",
     "output_type": "stream",
     "text": [
      "alpha WjMQ9ovG 没有 score 数据\n",
      "处理进度: 41/68 (60.3%) - 当前处理: KP3dk7Pz"
     ]
    },
    {
     "name": "stderr",
     "output_type": "stream",
     "text": [
      "2025-10-28 15:27:24,562 - INFO - 需要等待 1.0 秒后重试\n",
      "2025-10-28 15:27:25,863 - INFO - 成功获取 KP3dk7Pz 的PNL数据\n"
     ]
    },
    {
     "name": "stdout",
     "output_type": "stream",
     "text": [
      "alpha KP3dk7Pz 没有 score 数据\n",
      "处理进度: 42/68 (61.8%) - 当前处理: O0OY3mzq"
     ]
    },
    {
     "name": "stderr",
     "output_type": "stream",
     "text": [
      "2025-10-28 15:27:26,824 - INFO - 需要等待 1.0 秒后重试\n",
      "2025-10-28 15:27:28,108 - INFO - 成功获取 O0OY3mzq 的PNL数据\n"
     ]
    },
    {
     "name": "stdout",
     "output_type": "stream",
     "text": [
      "alpha O0OY3mzq 没有 score 数据\n",
      "处理进度: 43/68 (63.2%) - 当前处理: vR8MdNKQ"
     ]
    },
    {
     "name": "stderr",
     "output_type": "stream",
     "text": [
      "2025-10-28 15:27:29,042 - INFO - 需要等待 1.0 秒后重试\n",
      "2025-10-28 15:27:30,442 - INFO - 成功获取 vR8MdNKQ 的PNL数据\n"
     ]
    },
    {
     "name": "stdout",
     "output_type": "stream",
     "text": [
      "alpha vR8MdNKQ 没有 score 数据\n",
      "处理进度: 44/68 (64.7%) - 当前处理: 2rMzdg75"
     ]
    },
    {
     "name": "stderr",
     "output_type": "stream",
     "text": [
      "2025-10-28 15:27:31,408 - INFO - 需要等待 1.0 秒后重试\n",
      "2025-10-28 15:27:32,703 - INFO - 成功获取 2rMzdg75 的PNL数据\n"
     ]
    },
    {
     "name": "stdout",
     "output_type": "stream",
     "text": [
      "alpha 2rMzdg75 没有 score 数据\n",
      "处理进度: 45/68 (66.2%) - 当前处理: RRMQV9ad"
     ]
    },
    {
     "name": "stderr",
     "output_type": "stream",
     "text": [
      "2025-10-28 15:27:33,660 - INFO - 需要等待 1.0 秒后重试\n",
      "2025-10-28 15:27:34,966 - INFO - 成功获取 RRMQV9ad 的PNL数据\n"
     ]
    },
    {
     "name": "stdout",
     "output_type": "stream",
     "text": [
      "alpha RRMQV9ad 没有 score 数据\n",
      "处理进度: 46/68 (67.6%) - 当前处理: WjMQP8Zj"
     ]
    },
    {
     "name": "stderr",
     "output_type": "stream",
     "text": [
      "2025-10-28 15:27:35,894 - INFO - 需要等待 1.0 秒后重试\n",
      "2025-10-28 15:27:37,171 - INFO - 成功获取 WjMQP8Zj 的PNL数据\n"
     ]
    },
    {
     "name": "stdout",
     "output_type": "stream",
     "text": [
      "alpha WjMQP8Zj 没有 score 数据\n",
      "处理进度: 47/68 (69.1%) - 当前处理: LLWa1nnn"
     ]
    },
    {
     "name": "stderr",
     "output_type": "stream",
     "text": [
      "2025-10-28 15:27:38,415 - INFO - 需要等待 1.0 秒后重试\n",
      "2025-10-28 15:27:39,719 - INFO - 成功获取 LLWa1nnn 的PNL数据\n"
     ]
    },
    {
     "name": "stdout",
     "output_type": "stream",
     "text": [
      "alpha LLWa1nnn 没有 score 数据\n",
      "处理进度: 48/68 (70.6%) - 当前处理: 0mq37G56"
     ]
    },
    {
     "name": "stderr",
     "output_type": "stream",
     "text": [
      "2025-10-28 15:27:40,901 - INFO - 需要等待 1.0 秒后重试\n",
      "2025-10-28 15:27:42,250 - INFO - 成功获取 0mq37G56 的PNL数据\n"
     ]
    },
    {
     "name": "stdout",
     "output_type": "stream",
     "text": [
      "alpha 0mq37G56 没有 score 数据\n",
      "处理进度: 49/68 (72.1%) - 当前处理: kqdrnQrg"
     ]
    },
    {
     "name": "stderr",
     "output_type": "stream",
     "text": [
      "2025-10-28 15:27:43,478 - INFO - 需要等待 1.0 秒后重试\n",
      "2025-10-28 15:27:44,758 - INFO - 成功获取 kqdrnQrg 的PNL数据\n"
     ]
    },
    {
     "name": "stdout",
     "output_type": "stream",
     "text": [
      "alpha kqdrnQrg 没有 score 数据\n",
      "处理进度: 50/68 (73.5%) - 当前处理: mLpRrnw9"
     ]
    },
    {
     "name": "stderr",
     "output_type": "stream",
     "text": [
      "2025-10-28 15:27:45,732 - INFO - 需要等待 1.0 秒后重试\n",
      "2025-10-28 15:27:47,026 - INFO - 成功获取 mLpRrnw9 的PNL数据\n"
     ]
    },
    {
     "name": "stdout",
     "output_type": "stream",
     "text": [
      "alpha mLpRrnw9 没有 score 数据\n",
      "处理进度: 51/68 (75.0%) - 当前处理: wpqxgrMx"
     ]
    },
    {
     "name": "stderr",
     "output_type": "stream",
     "text": [
      "2025-10-28 15:27:47,943 - INFO - 需要等待 1.0 秒后重试\n",
      "2025-10-28 15:27:49,234 - INFO - 成功获取 wpqxgrMx 的PNL数据\n"
     ]
    },
    {
     "name": "stdout",
     "output_type": "stream",
     "text": [
      "alpha wpqxgrMx 没有 score 数据\n",
      "处理进度: 52/68 (76.5%) - 当前处理: mLp3GERX"
     ]
    },
    {
     "name": "stderr",
     "output_type": "stream",
     "text": [
      "2025-10-28 15:27:50,222 - INFO - 需要等待 1.0 秒后重试\n",
      "2025-10-28 15:27:52,224 - INFO - 成功获取 mLp3GERX 的PNL数据\n"
     ]
    },
    {
     "name": "stdout",
     "output_type": "stream",
     "text": [
      "alpha mLp3GERX 没有 score 数据\n",
      "处理进度: 53/68 (77.9%) - 当前处理: JjqEvL6W"
     ]
    },
    {
     "name": "stderr",
     "output_type": "stream",
     "text": [
      "2025-10-28 15:27:53,148 - INFO - 需要等待 1.0 秒后重试\n",
      "2025-10-28 15:27:54,672 - INFO - 成功获取 JjqEvL6W 的PNL数据\n"
     ]
    },
    {
     "name": "stdout",
     "output_type": "stream",
     "text": [
      "alpha JjqEvL6W 没有 score 数据\n",
      "处理进度: 54/68 (79.4%) - 当前处理: A19ZkY7l"
     ]
    },
    {
     "name": "stderr",
     "output_type": "stream",
     "text": [
      "2025-10-28 15:27:55,675 - INFO - 需要等待 1.0 秒后重试\n",
      "2025-10-28 15:27:57,187 - INFO - 成功获取 A19ZkY7l 的PNL数据\n"
     ]
    },
    {
     "name": "stdout",
     "output_type": "stream",
     "text": [
      "alpha A19ZkY7l 没有 score 数据\n",
      "处理进度: 55/68 (80.9%) - 当前处理: 88b9aW8l"
     ]
    },
    {
     "name": "stderr",
     "output_type": "stream",
     "text": [
      "2025-10-28 15:27:58,336 - INFO - 需要等待 1.0 秒后重试\n",
      "2025-10-28 15:27:59,635 - INFO - 成功获取 88b9aW8l 的PNL数据\n"
     ]
    },
    {
     "name": "stdout",
     "output_type": "stream",
     "text": [
      "alpha 88b9aW8l 没有 score 数据\n",
      "处理进度: 56/68 (82.4%) - 当前处理: zqZ6pd8R"
     ]
    },
    {
     "name": "stderr",
     "output_type": "stream",
     "text": [
      "2025-10-28 15:28:00,819 - INFO - 需要等待 1.0 秒后重试\n",
      "2025-10-28 15:28:02,415 - INFO - 成功获取 zqZ6pd8R 的PNL数据\n"
     ]
    },
    {
     "name": "stdout",
     "output_type": "stream",
     "text": [
      "alpha zqZ6pd8R 没有 score 数据\n",
      "处理进度: 57/68 (83.8%) - 当前处理: A19ZznGR"
     ]
    },
    {
     "name": "stderr",
     "output_type": "stream",
     "text": [
      "2025-10-28 15:28:03,590 - INFO - 需要等待 1.0 秒后重试\n",
      "2025-10-28 15:28:05,099 - INFO - 成功获取 A19ZznGR 的PNL数据\n"
     ]
    },
    {
     "name": "stdout",
     "output_type": "stream",
     "text": [
      "alpha A19ZznGR 没有 score 数据\n",
      "处理进度: 58/68 (85.3%) - 当前处理: xAq822vg"
     ]
    },
    {
     "name": "stderr",
     "output_type": "stream",
     "text": [
      "2025-10-28 15:28:06,044 - INFO - 需要等待 1.0 秒后重试\n",
      "2025-10-28 15:28:07,576 - INFO - 成功获取 xAq822vg 的PNL数据\n"
     ]
    },
    {
     "name": "stdout",
     "output_type": "stream",
     "text": [
      "alpha xAq822vg 没有 score 数据\n",
      "处理进度: 59/68 (86.8%) - 当前处理: XgGQWEjz"
     ]
    },
    {
     "name": "stderr",
     "output_type": "stream",
     "text": [
      "2025-10-28 15:28:08,553 - INFO - 需要等待 1.0 秒后重试\n",
      "2025-10-28 15:28:09,848 - INFO - 成功获取 XgGQWEjz 的PNL数据\n"
     ]
    },
    {
     "name": "stdout",
     "output_type": "stream",
     "text": [
      "alpha XgGQWEjz 没有 score 数据\n",
      "处理进度: 60/68 (88.2%) - 当前处理: vR8MLZNb"
     ]
    },
    {
     "name": "stderr",
     "output_type": "stream",
     "text": [
      "2025-10-28 15:28:10,832 - INFO - 需要等待 1.0 秒后重试\n",
      "2025-10-28 15:28:12,109 - INFO - 成功获取 vR8MLZNb 的PNL数据\n"
     ]
    },
    {
     "name": "stdout",
     "output_type": "stream",
     "text": [
      "alpha vR8MLZNb 没有 score 数据\n",
      "处理进度: 61/68 (89.7%) - 当前处理: E51WqX89"
     ]
    },
    {
     "name": "stderr",
     "output_type": "stream",
     "text": [
      "2025-10-28 15:28:13,027 - INFO - 需要等待 1.0 秒后重试\n",
      "2025-10-28 15:28:14,316 - INFO - 成功获取 E51WqX89 的PNL数据\n"
     ]
    },
    {
     "name": "stdout",
     "output_type": "stream",
     "text": [
      "alpha E51WqX89 没有 score 数据\n",
      "处理进度: 62/68 (91.2%) - 当前处理: wpqxn9ZQ"
     ]
    },
    {
     "name": "stderr",
     "output_type": "stream",
     "text": [
      "2025-10-28 15:28:15,939 - INFO - 需要等待 1.0 秒后重试\n",
      "2025-10-28 15:28:17,238 - INFO - 成功获取 wpqxn9ZQ 的PNL数据\n"
     ]
    },
    {
     "name": "stdout",
     "output_type": "stream",
     "text": [
      "alpha wpqxn9ZQ 没有 score 数据\n",
      "处理进度: 63/68 (92.6%) - 当前处理: E517jN6K"
     ]
    },
    {
     "name": "stderr",
     "output_type": "stream",
     "text": [
      "2025-10-28 15:28:18,425 - INFO - 需要等待 1.0 秒后重试\n",
      "2025-10-28 15:28:19,729 - INFO - 成功获取 E517jN6K 的PNL数据\n"
     ]
    },
    {
     "name": "stdout",
     "output_type": "stream",
     "text": [
      "alpha E517jN6K 没有 score 数据\n",
      "处理进度: 64/68 (94.1%) - 当前处理: QPMkVkwr"
     ]
    },
    {
     "name": "stderr",
     "output_type": "stream",
     "text": [
      "2025-10-28 15:28:20,966 - INFO - 需要等待 1.0 秒后重试\n",
      "2025-10-28 15:28:22,560 - INFO - 成功获取 QPMkVkwr 的PNL数据\n"
     ]
    },
    {
     "name": "stdout",
     "output_type": "stream",
     "text": [
      "alpha QPMkVkwr 没有 score 数据\n",
      "处理进度: 65/68 (95.6%) - 当前处理: rKYgozqJ"
     ]
    },
    {
     "name": "stderr",
     "output_type": "stream",
     "text": [
      "2025-10-28 15:28:23,725 - INFO - 需要等待 1.0 秒后重试\n",
      "2025-10-28 15:28:25,299 - INFO - 成功获取 rKYgozqJ 的PNL数据\n"
     ]
    },
    {
     "name": "stdout",
     "output_type": "stream",
     "text": [
      "alpha rKYgozqJ 没有 score 数据\n",
      "处理进度: 66/68 (97.1%) - 当前处理: d5pVdPRK"
     ]
    },
    {
     "name": "stderr",
     "output_type": "stream",
     "text": [
      "2025-10-28 15:28:26,527 - INFO - 需要等待 1.0 秒后重试\n",
      "2025-10-28 15:28:28,085 - INFO - 成功获取 d5pVdPRK 的PNL数据\n"
     ]
    },
    {
     "name": "stdout",
     "output_type": "stream",
     "text": [
      "alpha d5pVdPRK 没有 score 数据\n",
      "处理进度: 67/68 (98.5%) - 当前处理: 6X7VwZ87"
     ]
    },
    {
     "name": "stderr",
     "output_type": "stream",
     "text": [
      "2025-10-28 15:28:29,477 - INFO - 需要等待 1.0 秒后重试\n",
      "2025-10-28 15:28:31,960 - INFO - 成功获取 6X7VwZ87 的PNL数据\n"
     ]
    },
    {
     "name": "stdout",
     "output_type": "stream",
     "text": [
      "alpha 6X7VwZ87 没有 score 数据\n",
      "处理进度: 68/68 (100.0%) - 当前处理: ak6ZA9G5"
     ]
    },
    {
     "name": "stderr",
     "output_type": "stream",
     "text": [
      "2025-10-28 15:28:33,829 - INFO - 需要等待 1.0 秒后重试\n",
      "2025-10-28 15:28:35,575 - INFO - 成功获取 ak6ZA9G5 的PNL数据\n"
     ]
    },
    {
     "name": "stdout",
     "output_type": "stream",
     "text": [
      "alpha ak6ZA9G5 没有 score 数据\n",
      "\n",
      "所有alpha处理完成！\n",
      "已将结果保存到 records/check_results.csv\n",
      "\n",
      "设置 68 个高相关性alpha的颜色为红色...\n"
     ]
    },
    {
     "name": "stderr",
     "output_type": "stream",
     "text": [
      "2025-10-28 15:29:12,330 - INFO - 颜色设置: 成功 68 个, 失败 0 个\n"
     ]
    },
    {
     "name": "stdout",
     "output_type": "stream",
     "text": [
      "\n",
      "没有需要设置颜色的alpha\n",
      "\n",
      "处理完成！请查看 records/check_results.txt 文件获取详细信息。\n"
     ]
    }
   ],
   "source": [
    "import os\n",
    "import pandas as pd\n",
    "import numpy as np\n",
    "import logging\n",
    "from datetime import datetime, timedelta\n",
    "import requests\n",
    "import time\n",
    "import json\n",
    "\n",
    "from config import RECORDS_PATH\n",
    "from machine_lib import login, set_alpha_properties\n",
    "import concurrent.futures\n",
    "\n",
    "# 配置日志\n",
    "logging.basicConfig(\n",
    "    level=logging.INFO,\n",
    "    format='%(asctime)s - %(levelname)s - %(message)s'\n",
    ")\n",
    "logger = logging.getLogger(__name__)\n",
    "\n",
    "def get_submitted_alpha_ids(s, region, alpha_num):\n",
    "    \"\"\"\n",
    "    获取已提交的alpha因子ID列表\n",
    "    :param s: 会话对象\n",
    "    :param region: 地区\n",
    "    :param alpha_num: 需要获取的alpha数量\n",
    "    :return: alpha ID列表\n",
    "    \"\"\"\n",
    "    count = 0\n",
    "    id_lst = []\n",
    "    max_retries = 3\n",
    "    retry_delay = 1  # 重试延迟时间（秒）\n",
    "   \n",
    "    for i in range(0, alpha_num, 100):\n",
    "        retry_count = 0\n",
    "        while retry_count < max_retries:\n",
    "            try:\n",
    "                url = f\"https://api.worldquantbrain.com/users/self/alphas?limit=100&offset={i}\" \\\n",
    "                      f\"&status!=UNSUBMITTED\" \\\n",
    "                      f\"&settings.region={region}\" \\\n",
    "                      f\"&order=-is.sharpe\"\n",
    "               \n",
    "                response = s.get(url)\n",
    "                response.raise_for_status()  # 检查HTTP错误\n",
    "               \n",
    "                try:\n",
    "                    alpha_list = response.json()[\"results\"]\n",
    "                    for alpha in alpha_list:\n",
    "                        alpha_id = alpha[\"id\"]\n",
    "                        count += 1\n",
    "                        id_lst.append(alpha_id)\n",
    "                    break  # 成功获取数据，跳出重试循环\n",
    "                   \n",
    "                except (KeyError, json.JSONDecodeError) as e:\n",
    "                    logger.error(f\"解析响应数据失败: {str(e)}\")\n",
    "                    retry_count += 1\n",
    "                    time.sleep(retry_delay)\n",
    "                   \n",
    "            except requests.exceptions.RequestException as e:\n",
    "                logger.error(f\"请求失败: {str(e)}\")\n",
    "                retry_count += 1\n",
    "                time.sleep(retry_delay)\n",
    "               \n",
    "        if retry_count >= max_retries:\n",
    "            logger.error(f\"获取数据失败，已达到最大重试次数: offset={i}\")\n",
    "            break\n",
    "           \n",
    "    logger.info(f\"成功获取 {count} 个alpha因子ID\")\n",
    "    return id_lst\n",
    "\n",
    "\n",
    "class AutoCorrelationTester:\n",
    "    def __init__(self, threshold=0.7, window_size=20, max_lag=100, cache_dir=\"cache\"):\n",
    "        \"\"\"\n",
    "        初始化自相关检测器\n",
    "        :param threshold: 自相关系数阈值\n",
    "        :param window_size: 滑动窗口大小\n",
    "        :param max_lag: 最大滞后期\n",
    "        :param cache_dir: 缓存目录\n",
    "        \"\"\"\n",
    "        self.threshold = threshold\n",
    "        self.window_size = window_size\n",
    "        self.max_lag = max_lag\n",
    "        self.session = login()\n",
    "        self.cache_dir = cache_dir\n",
    "        self.pnl_cache = {}\n",
    "       \n",
    "        # 确保缓存目录存在\n",
    "        os.makedirs(cache_dir, exist_ok=True)\n",
    "       \n",
    "    def _get_cache_path(self, alpha_id):\n",
    "        \"\"\"获取缓存文件路径\"\"\"\n",
    "        return os.path.join(self.cache_dir, f\"{alpha_id}.pkl\")\n",
    "       \n",
    "    def _load_from_cache(self, alpha_id):\n",
    "        \"\"\"从缓存加载数据\"\"\"\n",
    "        cache_path = self._get_cache_path(alpha_id)\n",
    "        if os.path.exists(cache_path):\n",
    "            try:\n",
    "                with open(cache_path, 'rb') as f:\n",
    "                    return pd.read_pickle(f)\n",
    "            except Exception as e:\n",
    "                logger.error(f\"从缓存加载数据失败: {alpha_id}, 错误: {str(e)}\")\n",
    "                return None\n",
    "        return None\n",
    "       \n",
    "    def _save_to_cache(self, alpha_id, data):\n",
    "        \"\"\"保存数据到缓存\"\"\"\n",
    "        cache_path = self._get_cache_path(alpha_id)\n",
    "        try:\n",
    "            with open(cache_path, 'wb') as f:\n",
    "                pd.to_pickle(data, f)\n",
    "        except Exception as e:\n",
    "            logger.error(f\"保存数据到缓存失败: {alpha_id}, 错误: {str(e)}\")\n",
    "           \n",
    "    def get_alpha_pnl(self, alpha_id):\n",
    "        \"\"\"\n",
    "        获取alpha的PNL数据，优先从缓存读取\n",
    "        :param alpha_id: alpha的ID\n",
    "        :return: PNL数据DataFrame\n",
    "        \"\"\"\n",
    "        # 检查内存缓存\n",
    "        if alpha_id in self.pnl_cache:\n",
    "            return self.pnl_cache[alpha_id]\n",
    "           \n",
    "        # 检查文件缓存\n",
    "        cached_data = self._load_from_cache(alpha_id)\n",
    "        if cached_data is not None:\n",
    "            self.pnl_cache[alpha_id] = cached_data\n",
    "            return cached_data\n",
    "           \n",
    "        # 从API获取数据\n",
    "        try:\n",
    "            # 获取PNL数据\n",
    "            url = f\"https://api.worldquantbrain.com/alphas/{alpha_id}/recordsets/pnl\"\n",
    "           \n",
    "            # 循环获取数据，直到没有Retry-After头\n",
    "            while True:\n",
    "                pnl_response = self.session.get(url)\n",
    "                retry_after = pnl_response.headers.get('Retry-After')\n",
    "                if not retry_after:\n",
    "                    break\n",
    "                logger.info(f'需要等待 {retry_after} 秒后重试')\n",
    "                time.sleep(float(retry_after))\n",
    "               \n",
    "            if pnl_response.status_code != 200:\n",
    "                logger.error(f\"获取PNL数据失败: {alpha_id}, 状态码: {pnl_response.status_code}\")\n",
    "                return None\n",
    "               \n",
    "            # 检查响应内容\n",
    "            response_text = pnl_response.text\n",
    "            if not response_text:\n",
    "                logger.error(f\"获取PNL数据失败: {alpha_id}, 响应内容为空\")\n",
    "                return None\n",
    "               \n",
    "            # 尝试解析JSON\n",
    "            try:\n",
    "                pnl_data = json.loads(response_text)\n",
    "            except json.JSONDecodeError as e:\n",
    "                logger.error(f\"解析PNL数据失败: {alpha_id}, 错误: {str(e)}\")\n",
    "                return None\n",
    "               \n",
    "            if not pnl_data.get(\"records\"):\n",
    "                logger.warning(f\"没有PNL数据: {alpha_id}\")\n",
    "                return None\n",
    "               \n",
    "            # 转换为DataFrame\n",
    "            try:\n",
    "                dates = [record[0] for record in pnl_data[\"records\"]]\n",
    "                values = [record[1] for record in pnl_data[\"records\"]]\n",
    "                pnl_df = pd.DataFrame({\"date\": dates, \"pnl\": values})\n",
    "                pnl_df[\"date\"] = pd.to_datetime(pnl_df[\"date\"])\n",
    "                pnl_df.set_index(\"date\", inplace=True)\n",
    "               \n",
    "                # 保存到缓存\n",
    "                self.pnl_cache[alpha_id] = pnl_df\n",
    "                self._save_to_cache(alpha_id, pnl_df)\n",
    "               \n",
    "                logger.info(f\"成功获取 {alpha_id} 的PNL数据\")\n",
    "                return pnl_df\n",
    "               \n",
    "            except Exception as e:\n",
    "                logger.error(f\"处理PNL数据失败: {alpha_id}, 错误: {str(e)}\")\n",
    "                return None\n",
    "               \n",
    "        except Exception as e:\n",
    "            logger.error(f\"获取alpha数据时发生错误: {alpha_id}, 错误: {str(e)}\")\n",
    "            return None\n",
    "\n",
    "    def calculate_returns(self, pnl_series):\n",
    "        \"\"\"\n",
    "        计算收益率序列\n",
    "        :param pnl_series: PNL时间序列\n",
    "        :return: 收益率序列\n",
    "        \"\"\"\n",
    "        return pnl_series.diff()\n",
    "\n",
    "    def calculate_pearson_autocorrelation(self, returns, lag):\n",
    "        \"\"\"\n",
    "        计算皮尔逊自相关系数\n",
    "        :param returns: 收益率序列\n",
    "        :param lag: 滞后期\n",
    "        :return: 皮尔逊相关系数\n",
    "        \"\"\"\n",
    "        if len(returns) <= lag:\n",
    "            return 0.0\n",
    "       \n",
    "        # 计算滞后期序列\n",
    "        lagged_returns = returns.shift(lag)\n",
    "       \n",
    "        # 删除NaN值\n",
    "        valid_returns = returns[lag:]\n",
    "        valid_lagged = lagged_returns[lag:]\n",
    "       \n",
    "        # 确保没有NaN值\n",
    "        mask = ~(np.isnan(valid_returns) | np.isnan(valid_lagged))\n",
    "        valid_returns = valid_returns[mask]\n",
    "        valid_lagged = valid_lagged[mask]\n",
    "       \n",
    "        if len(valid_returns) < 2:\n",
    "            return 0.0\n",
    "           \n",
    "        # 使用numpy计算皮尔逊相关系数\n",
    "        correlation = np.corrcoef(valid_returns, valid_lagged)[0, 1]\n",
    "        return correlation\n",
    "\n",
    "    def calculate_local_self_correlation(self, pnl_series):\n",
    "        \"\"\"\n",
    "        计算本地自相关系数\n",
    "        :param pnl_series: PNL时间序列\n",
    "        :return: 最大自相关系数\n",
    "        \"\"\"\n",
    "        if len(pnl_series) < self.window_size:\n",
    "            return 0.0\n",
    "           \n",
    "        # 计算收益率\n",
    "        returns = self.calculate_returns(pnl_series)\n",
    "       \n",
    "        # 使用滑动窗口计算自相关系数\n",
    "        max_corr = 0\n",
    "        for lag in range(1, self.window_size):\n",
    "            corr = self.calculate_pearson_autocorrelation(returns, lag)\n",
    "            if abs(corr) > abs(max_corr):\n",
    "                max_corr = corr\n",
    "               \n",
    "        return max_corr\n",
    "   \n",
    "\n",
    "    def calculate_cross_correlation(self, returns1, returns2):\n",
    "        \"\"\"\n",
    "        计算两个时间序列之间的互相关系数\n",
    "        :param returns1: 第一个alpha的收益率序列\n",
    "        :param returns2: 第二个alpha的收益率序列\n",
    "        :return: 互相关系数及相关统计信息\n",
    "        \"\"\"\n",
    "        # 确保两个序列长度一致\n",
    "        min_length = min(len(returns1), len(returns2))\n",
    "        returns1 = returns1[:min_length]\n",
    "        returns2 = returns2[:min_length]\n",
    "       \n",
    "        # 删除NaN值\n",
    "        mask = ~(np.isnan(returns1) | np.isnan(returns2))\n",
    "        returns1 = returns1[mask]\n",
    "        returns2 = returns2[mask]\n",
    "       \n",
    "        if len(returns1) < 2:\n",
    "            return {\n",
    "                \"correlation\": 0.0,\n",
    "                \"statistics\": {\n",
    "                    \"length\": len(returns1),\n",
    "                    \"returns1_mean\": 0.0,\n",
    "                    \"returns1_std\": 0.0,\n",
    "                    \"returns2_mean\": 0.0,\n",
    "                    \"returns2_std\": 0.0,\n",
    "                    \"covariance\": 0.0\n",
    "                }\n",
    "            }\n",
    "           \n",
    "        # 计算基本统计量\n",
    "        stats = {\n",
    "            \"length\": len(returns1),\n",
    "            \"returns1_mean\": returns1.mean(),\n",
    "            \"returns1_std\": returns1.std(),\n",
    "            \"returns2_mean\": returns2.mean(),\n",
    "            \"returns2_std\": returns2.std(),\n",
    "            \"covariance\": np.cov(returns1, returns2)[0, 1]\n",
    "        }\n",
    "       \n",
    "        # 标准化数据\n",
    "        returns1_std = (returns1 - stats[\"returns1_mean\"]) / stats[\"returns1_std\"]\n",
    "        returns2_std = (returns2 - stats[\"returns2_mean\"]) / stats[\"returns2_std\"]\n",
    "       \n",
    "        # 计算相关系数\n",
    "        correlation = np.corrcoef(returns1_std, returns2_std)[0, 1]\n",
    "        correlation = round(correlation, 4)\n",
    "       \n",
    "        return {\n",
    "            \"correlation\": correlation,\n",
    "            \"statistics\": stats\n",
    "        }\n",
    "\n",
    "    def calculate_lag_correlation(self, returns1, returns2):\n",
    "        \"\"\"\n",
    "        计算returns2相对于returns1的滞后相关系数\n",
    "        :param returns1: 基准alpha的收益率序列\n",
    "        :param returns2: 滞后alpha的收益率序列\n",
    "        :return: 滞后相关系数列表\n",
    "        \"\"\"\n",
    "        correlations = []\n",
    "       \n",
    "        # 确保两个序列长度一致\n",
    "        min_length = min(len(returns1), len(returns2))\n",
    "        returns1 = returns1[:min_length]\n",
    "        returns2 = returns2[:min_length]\n",
    "       \n",
    "        for lag in range(1, self.max_lag + 1):\n",
    "            # returns2滞后于returns1\n",
    "            r1 = returns1[:-lag]\n",
    "            r2 = returns2[lag:len(r1)+lag]\n",
    "           \n",
    "            # 确保没有NaN值\n",
    "            mask = ~(np.isnan(r1) | np.isnan(r2))\n",
    "            r1 = r1[mask]\n",
    "            r2 = r2[mask]\n",
    "           \n",
    "            if len(r1) < 2:\n",
    "                corr = 0.0\n",
    "            else:\n",
    "                # 确保两个序列长度一致\n",
    "                min_len = min(len(r1), len(r2))\n",
    "                r1 = r1[:min_len]\n",
    "                r2 = r2[:min_len]\n",
    "                corr = np.corrcoef(r1, r2)[0, 1]\n",
    "               \n",
    "            correlations.append((lag, corr))\n",
    "        return correlations\n",
    "\n",
    "    def check_autocorrelation(self, pnl_data):\n",
    "        \"\"\"\n",
    "        检查自相关性\n",
    "        :param pnl_data: PNL数据，可以是DataFrame或Series\n",
    "        :return: 检测结果字典\n",
    "        \"\"\"\n",
    "        try:\n",
    "            # 确保输入数据格式正确\n",
    "            if isinstance(pnl_data, pd.DataFrame):\n",
    "                if 'pnl' in pnl_data.columns:\n",
    "                    pnl_series = pnl_data['pnl']\n",
    "                else:\n",
    "                    raise ValueError(\"DataFrame必须包含'pnl'列\")\n",
    "            elif isinstance(pnl_data, pd.Series):\n",
    "                pnl_series = pnl_data\n",
    "            else:\n",
    "                raise ValueError(\"输入数据必须是DataFrame或Series\")\n",
    "\n",
    "            # 计算最大自相关系数\n",
    "            max_corr = self.calculate_local_self_correlation(pnl_series)\n",
    "           \n",
    "            # 生成检测结果\n",
    "            result = {\n",
    "                \"test\": \"AUTOCORRELATION\",\n",
    "                \"result\": \"PASS\" if abs(max_corr) < self.threshold else \"FAIL\",\n",
    "                \"threshold\": self.threshold,\n",
    "                \"max_correlation\": max_corr,\n",
    "                \"window_size\": self.window_size\n",
    "            }\n",
    "           \n",
    "            return result\n",
    "           \n",
    "        except Exception as e:\n",
    "            logger.error(f\"自相关检测失败: {str(e)}\")\n",
    "            return {\n",
    "                \"test\": \"AUTOCORRELATION\",\n",
    "                \"result\": \"ERROR\",\n",
    "                \"error\": str(e)\n",
    "            }\n",
    "\n",
    "    def batch_check_autocorrelation(self, alpha_ids, max_workers=4):\n",
    "        \"\"\"\n",
    "        批量检查多个alpha的自相关性\n",
    "        :param alpha_ids: alpha ID列表\n",
    "        :param max_workers: 最大工作线程数\n",
    "        :return: 检测结果列表\n",
    "        \"\"\"\n",
    "        results = []\n",
    "       \n",
    "        # 创建线程池\n",
    "        with concurrent.futures.ThreadPoolExecutor(max_workers=max_workers) as executor:\n",
    "            # 提交任务\n",
    "            future_to_alpha = {\n",
    "                executor.submit(self.check_autocorrelation, alpha_id): alpha_id\n",
    "                for alpha_id in alpha_ids\n",
    "            }\n",
    "           \n",
    "            # 处理完成的任务\n",
    "            for future in concurrent.futures.as_completed(future_to_alpha):\n",
    "                alpha_id = future_to_alpha[future]\n",
    "                try:\n",
    "                    result = future.result()\n",
    "                    results.append(result)\n",
    "                    logger.info(f\"完成检查 {alpha_id}\")\n",
    "                except Exception as e:\n",
    "                    logger.error(f\"检查 {alpha_id} 时发生错误: {str(e)}\")\n",
    "                   \n",
    "        return results\n",
    "       \n",
    "    def batch_calculate_cross_correlation(self, alpha_pairs, max_workers=4):\n",
    "        \"\"\"\n",
    "        批量计算多个alpha对之间的互相关系数\n",
    "        :param alpha_pairs: alpha对列表，每个元素为(alpha_id1, alpha_id2)\n",
    "        :param max_workers: 最大工作线程数\n",
    "        :return: 相关系数结果列表\n",
    "        \"\"\"\n",
    "        results = []\n",
    "       \n",
    "        # 创建线程池\n",
    "        with concurrent.futures.ThreadPoolExecutor(max_workers=max_workers) as executor:\n",
    "            # 提交任务\n",
    "            future_to_pair = {\n",
    "                executor.submit(self._calculate_pair_correlation, pair): pair\n",
    "                for pair in alpha_pairs\n",
    "            }\n",
    "           \n",
    "            # 处理完成的任务\n",
    "            for future in concurrent.futures.as_completed(future_to_pair):\n",
    "                pair = future_to_pair[future]\n",
    "                try:\n",
    "                    result = future.result()\n",
    "                    results.append({\n",
    "                        \"alpha1\": pair[0],\n",
    "                        \"alpha2\": pair[1],\n",
    "                        \"result\": result\n",
    "                    })\n",
    "                except Exception as e:\n",
    "                    logger.error(f\"计算 {pair[0]} 和 {pair[1]} 的相关系数时发生错误: {str(e)}\")\n",
    "                   \n",
    "        return results\n",
    "       \n",
    "    def _calculate_pair_correlation(self, pair):\n",
    "        \"\"\"\n",
    "        计算一对alpha的相关系数\n",
    "        :param pair: (alpha_id1, alpha_id2)\n",
    "        :return: 相关系数结果\n",
    "        \"\"\"\n",
    "        alpha_id1, alpha_id2 = pair\n",
    "       \n",
    "        # 获取PNL数据\n",
    "        pnl1 = self.get_alpha_pnl(alpha_id1)\n",
    "        pnl2 = self.get_alpha_pnl(alpha_id2)\n",
    "       \n",
    "        if pnl1 is None or pnl2 is None:\n",
    "            return None\n",
    "           \n",
    "        # 计算收益率\n",
    "        returns1 = self.calculate_returns(pnl1[\"pnl\"])\n",
    "        returns2 = self.calculate_returns(pnl2[\"pnl\"])\n",
    "       \n",
    "        # 计算相关系数\n",
    "        return self.calculate_cross_correlation(returns1, returns2)\n",
    "\n",
    "class AlphaCorrelationTester:\n",
    "    def __init__(self, threshold=0.7):\n",
    "        self.threshold = threshold\n",
    "        self.session = login()\n",
    "        self.base_url = \"https://api.worldquantbrain.com\"\n",
    "        self.pnl_dir = \"data/pnl\"\n",
    "        self.cache_dir = \"cache\"\n",
    "       \n",
    "        # 确保目录存在\n",
    "        os.makedirs(self.pnl_dir, exist_ok=True)\n",
    "        os.makedirs(self.cache_dir, exist_ok=True)\n",
    "       \n",
    "        # 初始化缓存\n",
    "        self.pnl_cache = {}\n",
    "       \n",
    "    def get_unsubmitted_alphas(self, region, limit=100, start_date=None, end_date=None, sharpe_th=1.25, fitness_th=1.0, longCount_th=10, shortCount_th=10,color_exclude = ''):\n",
    "        print(\"开始获取未提交的alpha列表...\")\n",
    "        unsubmitted_alphas = []\n",
    "        offset = 0\n",
    "   \n",
    "    # 设置默认日期范围\n",
    "        if start_date is None:\n",
    "            start_date = (datetime.now() - timedelta(days=30)).strftime(\"%Y-%m-%d\")\n",
    "        if end_date is None:\n",
    "            end_date = datetime.now().strftime(\"%Y-%m-%d\")\n",
    "       \n",
    "        while True:\n",
    "            try:\n",
    "                url = f\"{self.base_url}/users/self/alphas\" \\\n",
    "                    f\"?limit={limit}&offset={offset}\" \\\n",
    "                    \"&status=UNSUBMITTED\" \\\n",
    "                    f\"&settings.region={region}\" \\\n",
    "                    f\"&dateCreated%3E={start_date}T00:00:00-04:00\" \\\n",
    "                    f\"&dateCreated%3C={end_date}T00:00:00-04:00\" \\\n",
    "                    f\"&is.sharpe%3E={sharpe_th}\" \\\n",
    "                    f\"&is.fitness%3E={fitness_th}\" \\\n",
    "                    f\"&is.longCount%3E={longCount_th}\" \\\n",
    "                    f\"&is.shortCount%3E={shortCount_th}\" \\\n",
    "                    f\"&color!={color_exclude}\"\\\n",
    "                    \"&order=-is.sharpe\"\n",
    "                 \n",
    "                print(f\"正在获取未提交alpha列表，offset={offset}...\")\n",
    "                response = self.session.get(url, timeout=30)  # 添加超时\n",
    "                if response.status_code != 200:\n",
    "                    print(f\"获取未提交alpha失败: {response.status_code}\")\n",
    "                    break\n",
    "               \n",
    "                try:\n",
    "                    alpha_list = response.json()[\"results\"]\n",
    "                    if not alpha_list:\n",
    "                        break\n",
    "                   \n",
    "                    for alpha_detail in alpha_list:\n",
    "                    # 提取所有alpha详细信息\n",
    "                        alpha_info = {\n",
    "                        \"id\": alpha_detail[\"id\"],\n",
    "                        \"type\": alpha_detail[\"type\"],\n",
    "                        \"author\": alpha_detail[\"author\"],\n",
    "                        \"instrumentType\": alpha_detail[\"settings\"][\"instrumentType\"],\n",
    "                        \"region\": alpha_detail[\"settings\"][\"region\"],\n",
    "                        \"universe\": alpha_detail[\"settings\"][\"universe\"],\n",
    "                        \"delay\": alpha_detail[\"settings\"][\"delay\"],\n",
    "                        \"decay\": alpha_detail[\"settings\"][\"decay\"],\n",
    "                        \"neutralization\": alpha_detail[\"settings\"][\"neutralization\"],\n",
    "                        \"truncation\": alpha_detail[\"settings\"][\"truncation\"],\n",
    "                        \"pasteurization\": alpha_detail[\"settings\"][\"pasteurization\"],\n",
    "                        \"unitHandling\": alpha_detail[\"settings\"][\"unitHandling\"],\n",
    "                        \"nanHandling\": alpha_detail[\"settings\"][\"nanHandling\"],\n",
    "                        \"language\": alpha_detail[\"settings\"][\"language\"],\n",
    "                        \"visualization\": alpha_detail[\"settings\"][\"visualization\"],\n",
    "                        \"code\": alpha_detail[\"regular\"][\"code\"],\n",
    "                        \"description\": alpha_detail[\"regular\"][\"description\"],\n",
    "                        \"operatorCount\": alpha_detail[\"regular\"][\"operatorCount\"],\n",
    "                        \"dateCreated\": alpha_detail[\"dateCreated\"],\n",
    "                        \"dateSubmitted\": alpha_detail[\"dateSubmitted\"],\n",
    "                        \"dateModified\": alpha_detail[\"dateModified\"],\n",
    "                        \"name\": alpha_detail[\"name\"],\n",
    "                        \"favorite\": alpha_detail[\"favorite\"],\n",
    "                        \"hidden\": alpha_detail[\"hidden\"],\n",
    "                        \"color\": alpha_detail[\"color\"],\n",
    "                        \"category\": alpha_detail[\"category\"],\n",
    "                        \"tags\": alpha_detail[\"tags\"],\n",
    "                        \"classifications\": alpha_detail[\"classifications\"],\n",
    "                        \"grade\": alpha_detail[\"grade\"],\n",
    "                        \"stage\": alpha_detail[\"stage\"],\n",
    "                        \"status\": alpha_detail[\"status\"],\n",
    "                        \"pnl\": alpha_detail[\"is\"][\"pnl\"],\n",
    "                        \"bookSize\": alpha_detail[\"is\"][\"bookSize\"],\n",
    "                        \"longCount\": alpha_detail[\"is\"][\"longCount\"],\n",
    "                        \"shortCount\": alpha_detail[\"is\"][\"shortCount\"],\n",
    "                        \"turnover\": alpha_detail[\"is\"][\"turnover\"],\n",
    "                        \"returns\": alpha_detail[\"is\"][\"returns\"],\n",
    "                        \"drawdown\": alpha_detail[\"is\"][\"drawdown\"],\n",
    "                        \"margin\": alpha_detail[\"is\"][\"margin\"],\n",
    "                        \"fitness\": alpha_detail[\"is\"][\"fitness\"],\n",
    "                        \"sharpe\": alpha_detail[\"is\"][\"sharpe\"],\n",
    "                        \"startDate\": alpha_detail[\"is\"][\"startDate\"],\n",
    "                        \"checks\": alpha_detail[\"is\"][\"checks\"],\n",
    "                        \"os\": alpha_detail[\"os\"],\n",
    "                        \"train\": alpha_detail[\"train\"],\n",
    "                        \"test\": alpha_detail[\"test\"],\n",
    "                        \"prod\": alpha_detail[\"prod\"],\n",
    "                        \"competitions\": alpha_detail[\"competitions\"],\n",
    "                        \"themes\": alpha_detail[\"themes\"],\n",
    "                        \"team\": alpha_detail[\"team\"]\n",
    "                    }\n",
    "                   \n",
    "                    # 检查checks结果\n",
    "                        checks_df = pd.DataFrame(alpha_detail[\"is\"][\"checks\"])\n",
    "                        pyramids = next(\n",
    "                            ([y['name'] for y in item['pyramids']] for item in alpha_detail[\"is\"][\"checks\"] if item['name'] == 'MATCHES_PYRAMID'), None)\n",
    "                   \n",
    "                    # 如果任何检查结果为FAIL，设置颜色为红色\n",
    "                        if any(checks_df[\"result\"] == \"FAIL\"):\n",
    "                            set_alpha_properties(self.session, alpha_detail[\"id\"], color='RED')\n",
    "                            continue\n",
    "                       \n",
    "                        # 添加到未提交alpha列表\n",
    "                        unsubmitted_alphas.append({\n",
    "                            \"id\": alpha_detail[\"id\"],\n",
    "                            \"sharpe\": alpha_detail[\"is\"][\"sharpe\"],\n",
    "                            \"fitness\": alpha_detail[\"is\"][\"fitness\"],\n",
    "                            \"margin\": alpha_detail[\"is\"][\"margin\"],\n",
    "                            \"full_info\": alpha_info  # 包含所有详细信息\n",
    "                        })\n",
    "                   \n",
    "                    print(f\"已获取 {len(unsubmitted_alphas)} 个未提交alpha\")\n",
    "                    offset += limit\n",
    "                except Exception as e:\n",
    "                    print(f\"解析未提交alpha数据失败: {str(e)}\")\n",
    "                    break\n",
    "               \n",
    "            except requests.exceptions.Timeout:\n",
    "                print(\"请求超时，正在重试...\")\n",
    "                continue\n",
    "            except Exception as e:\n",
    "                print(f\"获取未提交alpha时发生错误: {str(e)}\")\n",
    "                break\n",
    "           \n",
    "        print(f\"获取未提交alpha完成，共 {len(unsubmitted_alphas)} 个\")\n",
    "        return unsubmitted_alphas\n",
    "       \n",
    "    def get_submitted_alphas(self, region, limit=100):\n",
    "\n",
    "        \"\"\"获取已提交的alpha列表，并下载所有PNL数据\"\"\"\n",
    "        print(\"开始获取已提交的alpha列表...\")\n",
    "        submitted_alphas = []\n",
    "       \n",
    "        downloaded_ids = set()\n",
    "       \n",
    "        # 首先从本地文件夹读取已下载的alpha\n",
    "        if os.path.exists(self.pnl_dir):\n",
    "            print(\"从本地文件夹读取已下载的alpha...\")\n",
    "            for filename in os.listdir(self.pnl_dir):\n",
    "                if filename.endswith(\".csv\"):\n",
    "                    alpha_id = filename[:-4]  # 去掉.csv后缀\n",
    "                    downloaded_ids.add(alpha_id)\n",
    "                    submitted_alphas.append({\n",
    "                        \"id\": alpha_id,\n",
    "                        \"sharpe\": 0.0,  # 本地文件没有这些信息\n",
    "                        \"fitness\": 0.0\n",
    "                    })\n",
    "            print(f\"从本地读取到 {len(submitted_alphas)} 个已下载alpha\")\n",
    "       \n",
    "        # 从API获取所有已提交alpha\n",
    "        print(\"从API获取所有已提交alpha...\")\n",
    "        offset = 0\n",
    "        while True:\n",
    "            try:\n",
    "                url = f\"{self.base_url}/users/self/alphas\" \\\n",
    "                      f\"?limit={limit}&offset={offset}\" \\\n",
    "                      \"&status!=UNSUBMITTED\" \\\n",
    "                      f\"&settings.region={region}\" \\\n",
    "                      \"&order=-is.sharpe\"\n",
    "                     \n",
    "                print(f\"正在获取已提交alpha列表，offset={offset}...\")\n",
    "                response = self.session.get(url, timeout=30)\n",
    "                if response.status_code != 200:\n",
    "                    print(f\"获取已提交alpha失败: {response.status_code}\")\n",
    "                    break\n",
    "                   \n",
    "                try:\n",
    "                    alpha_list = response.json()[\"results\"]\n",
    "                    if not alpha_list:\n",
    "                        break\n",
    "                       \n",
    "                    for alpha in alpha_list:\n",
    "                        alpha_id = alpha[\"id\"]\n",
    "                        # 如果还没有下载过，下载PNL数据\n",
    "                        if alpha_id not in downloaded_ids:\n",
    "                            print(f\"下载alpha {alpha_id} 的PNL数据...\")\n",
    "                            self._download_alpha_pnl(alpha_id)\n",
    "                            downloaded_ids.add(alpha_id)\n",
    "                           \n",
    "                        # 添加到列表\n",
    "                        if not any(a[\"id\"] == alpha_id for a in submitted_alphas):\n",
    "                            submitted_alphas.append({\n",
    "                                \"id\": alpha_id,\n",
    "                                \"sharpe\": alpha[\"is\"][\"sharpe\"],\n",
    "                                \"fitness\": alpha[\"is\"][\"fitness\"]\n",
    "                            })\n",
    "                           \n",
    "                    print(f\"已获取 {len(submitted_alphas)} 个已提交alpha\")\n",
    "                    offset += limit\n",
    "                except Exception as e:\n",
    "                    print(f\"解析已提交alpha数据失败: {str(e)}\")\n",
    "\n",
    "                    break\n",
    "                   \n",
    "            except requests.exceptions.Timeout:\n",
    "                print(\"请求超时，正在重试...\")\n",
    "                continue\n",
    "            except Exception as e:\n",
    "                print(f\"获取已提交alpha时发生错误: {str(e)}\")\n",
    "                break\n",
    "               \n",
    "        print(f\"获取已提交alpha完成，共 {len(submitted_alphas)} 个\")\n",
    "        return submitted_alphas\n",
    "       \n",
    "    def _download_alpha_pnl(self, alpha_id):\n",
    "\n",
    "        \"\"\"下载alpha的PNL数据到本地\"\"\"\n",
    "        try:\n",
    "            # 确保目录存在\n",
    "            os.makedirs(self.pnl_dir, exist_ok=True)\n",
    "           \n",
    "            # 构建PNL数据URL\n",
    "            url = f\"{self.base_url}/alphas/{alpha_id}/recordsets/pnl\"\n",
    "           \n",
    "            # 获取PNL数据\n",
    "            response = self.session.get(url, timeout=30)\n",
    "            if response.status_code != 200:\n",
    "                print(f\"获取alpha {alpha_id} 的PNL数据失败: {response.status_code}\")\n",
    "                return\n",
    "               \n",
    "            # 解析PNL数据\n",
    "            pnl_data = response.json()\n",
    "            if not pnl_data.get(\"records\"):\n",
    "                print(f\"alpha {alpha_id} 没有PNL数据\")\n",
    "                return\n",
    "               \n",
    "            # 转换为DataFrame\n",
    "            df = pd.DataFrame(pnl_data[\"records\"], columns=[\"date\", \"pnl\"])\n",
    "            df[\"date\"] = pd.to_datetime(df[\"date\"])\n",
    "            df.set_index(\"date\", inplace=True)\n",
    "           \n",
    "            # 保存到本地\n",
    "            file_path = os.path.join(self.pnl_dir, f\"{alpha_id}.csv\")\n",
    "            df.to_csv(file_path)\n",
    "            print(f\"已保存alpha {alpha_id} 的PNL数据到 {file_path}\")\n",
    "           \n",
    "        except Exception as e:\n",
    "            print(f\"下载alpha {alpha_id} 的PNL数据失败: {str(e)}\")\n",
    "\n",
    "    def _get_performance(self, alpha_id):\n",
    "        MAX_RETRIES = 30  # 最大重试次数\n",
    "        RETRY_DELAY = 5  # 重试间隔时间（秒）\n",
    "        \"\"\"下载 alpha 的 PNL 数据到本地\"\"\"\n",
    "        retries = 0\n",
    "        while retries < MAX_RETRIES:\n",
    "            try:\n",
    "            # 构建 PNL 数据 URL\n",
    "               # url = f\"{self.base_url}/competitions/IQC2025S1/alphas/{alpha_id}/before-and-after-performance\"\n",
    "               #修改处 \n",
    "                url = f\" {self.base_url}/alphas/{alpha_id}/recordsets/pnl\"\n",
    "            # 获取 PNL 数据\n",
    "                response = self.session.get(url, timeout=30)\n",
    "\n",
    "                # 检查 API 响应状态码\n",
    "\n",
    "                if response.status_code != 200:\n",
    "                    print(f\"获取 alpha {alpha_id} 的 PNL 数据失败，状态码: {response.status_code}，第 {retries + 1} 次重试...\")\n",
    "                    retries += 1\n",
    "                    time.sleep(RETRY_DELAY)\n",
    "                    continue\n",
    "\n",
    "            # 解析 PNL 数据\n",
    "                performance_score_res = response.json()\n",
    "\n",
    "            # 检查 score 数据是否存在\n",
    "                if not performance_score_res.get(\"score\"):\n",
    "                    print(f\"alpha {alpha_id} 没有 score 数据\")\n",
    "                    return\n",
    "\n",
    "                performance_score_before = performance_score_res.get(\"score\")['before']\n",
    "                performance_score_after = performance_score_res.get(\"score\")['after']\n",
    "                performance_score = performance_score_after - performance_score_before\n",
    "                return performance_score\n",
    "\n",
    "            except Exception as e:\n",
    "                print(f\"获取 alpha {alpha_id} 的 score 数据失败: {str(e)}，第 {retries + 1} 次重试...\")\n",
    "                retries += 1\n",
    "                time.sleep(RETRY_DELAY)\n",
    "\n",
    "        print(f\"达到最大重试次数，无法获取 alpha {alpha_id} 的 PNL 数据。\")\n",
    "        return None\n",
    "\n",
    "    def check_all_unsubmitted_correlations(self, region=\"USA\", max_workers=4, start_date=None, end_date=None, sharpe_th=1.25, fitness_th=1.0,longCount_th=10, shortCount_th=10, color_exclude='RED'):\n",
    "        \"\"\"检查所有未提交alpha与已提交alpha的互相关系数\"\"\"\n",
    "        print(\"开始检查所有未提交alpha的相关系数...\")\n",
    "       \n",
    "        # 获取未提交alpha列表\n",
    "        unsubmitted = self.get_unsubmitted_alphas(region, start_date=start_date, end_date=end_date, sharpe_th=sharpe_th, fitness_th=fitness_th,longCount_th=longCount_th, shortCount_th=shortCount_th,color_exclude=color_exclude)\n",
    "        if not unsubmitted:\n",
    "            print(\"获取未提交alpha列表失败\")\n",
    "            return\n",
    "           \n",
    "        print(f\"获取到 {len(unsubmitted)} 个未提交alpha\")\n",
    "       \n",
    "        # 获取已提交alpha列表\n",
    "        submitted = self.get_submitted_alphas(region)\n",
    "        if not submitted:\n",
    "            print(\"获取已提交alpha列表失败\")\n",
    "            return\n",
    "           \n",
    "        print(f\"获取到 {len(submitted)} 个已提交alpha\")\n",
    "       \n",
    "        # 创建AutoCorrelationTester实例\n",
    "        tester = AutoCorrelationTester(threshold=self.threshold, cache_dir=self.cache_dir)\n",
    "       \n",
    "        # 预先获取所有已提交alpha的PNL数据\n",
    "        print(\"\\n预先加载已提交alpha的PNL数据...\")\n",
    "        for i, sub in enumerate(submitted, 1):\n",
    "            sub_id = sub[\"id\"]\n",
    "            print(f\"\\r加载进度: {i}/{len(submitted)} ({i/len(submitted)*100:.1f}%)\", end=\"\")\n",
    "            tester.get_alpha_pnl(sub_id)\n",
    "        print(\"\\n已提交alpha的PNL数据加载完成！\")\n",
    "       \n",
    "        # 存储所有未提交alpha的最大相关系数信息\n",
    "        all_results = {}\n",
    "        low_correlation_alphas = set()\n",
    "        high_correlation_alphas = set()\n",
    "        # 处理每个未提交alpha\n",
    "        total = len(unsubmitted)\n",
    "        for i, unsub in enumerate(unsubmitted, 1):\n",
    "            unsub_id = unsub[\"id\"]\n",
    "            unsub_sharpe = unsub[\"sharpe\"]\n",
    "            unsub_fitness = unsub[\"fitness\"]\n",
    "            unsub_margin = unsub[\"margin\"]\n",
    "            print(f\"\\r处理进度: {i}/{total} ({i/total*100:.1f}%) - 当前处理: {unsub_id}\", end=\"\")\n",
    "           \n",
    "            # 先获取未提交alpha的PNL数据\n",
    "            unsub_pnl = tester.get_alpha_pnl(unsub_id)\n",
    "            performance = self._get_performance(unsub_id)\n",
    "            if unsub_pnl is None:\n",
    "                print(f\"\\n跳过 {unsub_id}: 无法获取PNL数据\")\n",
    "                continue\n",
    "               \n",
    "            # 创建alpha对并计算相关系数\n",
    "            alpha_pairs = [(unsub_id, sub[\"id\"]) for sub in submitted]\n",
    "            results = tester.batch_calculate_cross_correlation(alpha_pairs, max_workers=max_workers)\n",
    "           \n",
    "            # 处理结果\n",
    "            max_correlation = 0.0\n",
    "            max_correlation_submitted_id = None\n",
    "           \n",
    "            for result in results:\n",
    "                if result[\"result\"] is None:\n",
    "                    continue\n",
    "                correlation = result[\"result\"][\"correlation\"]\n",
    "                submitted_id = result[\"alpha2\"]\n",
    "               \n",
    "                if abs(correlation) > abs(max_correlation):\n",
    "                    max_correlation = correlation\n",
    "                    max_correlation_submitted_id = submitted_id\n",
    "           \n",
    "            # 保存结果\n",
    "            all_results[unsub_id] = {\n",
    "                \"max_correlation\": max_correlation,\n",
    "                \"submitted_id\": max_correlation_submitted_id,\n",
    "                \"unsub_sharpe\": unsub_sharpe,\n",
    "                \"unsub_fitness\": unsub_fitness,\n",
    "                \"unsub_margin\": unsub_margin,\n",
    "                \"performance\" : performance\n",
    "            }\n",
    "            if abs(max_correlation) >= self.threshold:\n",
    "                high_correlation_alphas.add(unsub_id)\n",
    "            # 如果最大相关系数小于阈值，添加到需要设置颜色的集合\n",
    "            if abs(max_correlation) < self.threshold:\n",
    "                low_correlation_alphas.add(unsub_id)\n",
    "               \n",
    "        print(\"\\n所有alpha处理完成！\")\n",
    "       \n",
    "        # 保存所有结果到文件\n",
    "        self._save_all_results(all_results)\n",
    "        if high_correlation_alphas:\n",
    "            print(f\"\\n设置 {len(high_correlation_alphas)} 个高相关性alpha的颜色为红色...\")\n",
    "            self._set_high_correlation_color(high_correlation_alphas)\n",
    "        else:\n",
    "\n",
    "            print(\"\\n没有需要设置颜色的alpha\")\n",
    "        # 统一设置颜色\n",
    "        if low_correlation_alphas:\n",
    "            print(f\"\\n设置 {len(low_correlation_alphas)} 个低相关性alpha的颜色为紫色...\")\n",
    "            self._set_low_correlation_color(low_correlation_alphas)\n",
    "        else:\n",
    "            print(\"\\n没有需要设置颜色的alpha\")\n",
    "               \n",
    "        print(\"\\n处理完成！请查看 records/check_results.txt 文件获取详细信息。\")\n",
    "       \n",
    "    def _save_all_results(self, results):\n",
    "        \"\"\"保存所有未提交alpha的最大相关系数信息到文件\"\"\"\n",
    "        # 确保目录存在\n",
    "        os.makedirs(\"records\", exist_ok=True)\n",
    "       \n",
    "        # 按相关系数从大到小排序\n",
    "        sorted_results = sorted(\n",
    "            results.items(),\n",
    "            key=lambda x: abs(x[1][\"max_correlation\"]),\n",
    "            reverse=True\n",
    "        )\n",
    "       \n",
    "        # 写入文件\n",
    "        with open(\"records/check_results.csv\", \"w\", encoding=\"utf-8\") as f:\n",
    "            f.write(\"未提交alpha_id,已提交alpha_id,最大相关系数,sharpe,fitness,margin,performance\\n\")\n",
    "            for unsub_id, info in sorted_results:\n",
    "                f.write(f\"{unsub_id},{info['submitted_id']},{info['max_correlation']:.4f},{info['unsub_sharpe']:.4f},{info['unsub_fitness']:.4f},{info['unsub_margin']:.4f},{info['performance']}\\n\")\n",
    "               \n",
    "        print(f\"已将结果保存到 records/check_results.csv\")\n",
    "\n",
    "    def _set_low_correlation_color(self, alpha_ids):\n",
    "        \"\"\"将低相关性的alpha设置为紫色\"\"\"\n",
    "        if not alpha_ids:\n",
    "            return\n",
    "           \n",
    "        success_count = 0\n",
    "        fail_count = 0\n",
    "       \n",
    "        for alpha_id in alpha_ids:\n",
    "            try:\n",
    "                # 使用set_alpha_properties设置颜色\n",
    "                set_alpha_properties(self.session, alpha_id, color=\"PURPLE\")\n",
    "                success_count += 1\n",
    "                time.sleep(0.1)  # 避免请求过于频繁\n",
    "               \n",
    "            except Exception as e:\n",
    "                logger.error(f\"设置alpha {alpha_id} 颜色失败: {str(e)}\")\n",
    "                fail_count += 1\n",
    "               \n",
    "        logger.info(f\"颜色设置: 成功 {success_count} 个, 失败 {fail_count} 个\")\n",
    "   \n",
    "    def _set_high_correlation_color(self, alpha_ids):\n",
    "        \"\"\"将高相关性的alpha设置为红色\"\"\"\n",
    "        if not alpha_ids:\n",
    "            return\n",
    "           \n",
    "        success_count = 0\n",
    "        fail_count = 0\n",
    "       \n",
    "        for alpha_id in alpha_ids:\n",
    "            try:\n",
    "                # 使用set_alpha_properties设置颜色\n",
    "                set_alpha_properties(self.session, alpha_id, color=\"RED\")\n",
    "                success_count += 1\n",
    "                time.sleep(0.1)  # 避免请求过于频繁\n",
    "               \n",
    "            except Exception as e:\n",
    "                logger.error(f\"设置alpha {alpha_id} 颜色失败: {str(e)}\")\n",
    "                fail_count += 1\n",
    "               \n",
    "        logger.info(f\"颜色设置: 成功 {success_count} 个, 失败 {fail_count} 个\")\n",
    "\n",
    "def main():\n",
    "    # 创建测试器实例\n",
    "    tester = AlphaCorrelationTester(threshold=0.7)\n",
    "   \n",
    "    # 设置日期范围（可选）\n",
    "    start_date = \"2025-09-30\"  # 默认30天前\n",
    "    end_date = \"2025-10-31\"  # 默认今天\n",
    "    sharpe_th = 1.25\n",
    "    fitness_th = 1\n",
    "    #longCount_th=10\n",
    "    #shortCount_th=10\n",
    "    color_exclude=\"RED\"\n",
    "   \n",
    "    # 检查所有未提交alpha的相关系数\n",
    "    tester.check_all_unsubmitted_correlations(\n",
    "        region=\"USA\",\n",
    "        max_workers=4,\n",
    "\n",
    "\n",
    "\n",
    "        start_date=start_date,\n",
    "        end_date=end_date,\n",
    "        sharpe_th=sharpe_th,\n",
    "        fitness_th=fitness_th,\n",
    "        #longCount_th=longCount_th,\n",
    "        #shortCount_th=shortCount_th,\n",
    "        color_exclude=color_exclude\n",
    "    )\n",
    "       \n",
    "if __name__ == \"__main__\":\n",
    "    main()"
   ]
  },
  {
   "cell_type": "code",
   "execution_count": 2,
   "id": "dea2c770",
   "metadata": {},
   "outputs": [
    {
     "ename": "NameError",
     "evalue": "name 'user阶段注释掉了多空持仓的条件' is not defined",
     "output_type": "error",
     "traceback": [
      "\u001b[31m---------------------------------------------------------------------------\u001b[39m",
      "\u001b[31mNameError\u001b[39m                                 Traceback (most recent call last)",
      "\u001b[36mCell\u001b[39m\u001b[36m \u001b[39m\u001b[32mIn[2]\u001b[39m\u001b[32m, line 1\u001b[39m\n\u001b[32m----> \u001b[39m\u001b[32m1\u001b[39m \u001b[43muser阶段注释掉了多空持仓的条件\u001b[49m\n",
      "\u001b[31mNameError\u001b[39m: name 'user阶段注释掉了多空持仓的条件' is not defined"
     ]
    }
   ],
   "source": [
    "user阶段注释掉了多空持仓的条件"
   ]
  },
  {
   "cell_type": "markdown",
   "id": "18337722",
   "metadata": {},
   "source": []
  }
 ],
 "metadata": {
  "kernelspec": {
   "display_name": "Python 3",
   "language": "python",
   "name": "python3"
  },
  "language_info": {
   "codemirror_mode": {
    "name": "ipython",
    "version": 3
   },
   "file_extension": ".py",
   "mimetype": "text/x-python",
   "name": "python",
   "nbconvert_exporter": "python",
   "pygments_lexer": "ipython3",
   "version": "3.13.7"
  }
 },
 "nbformat": 4,
 "nbformat_minor": 5
}
